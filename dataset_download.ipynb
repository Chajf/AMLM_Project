{
 "cells": [
  {
   "cell_type": "code",
   "execution_count": null,
   "metadata": {},
   "outputs": [],
   "source": [
    "from datasets import load_dataset\n",
    "\n",
    "ds = load_dataset('google/MusicCaps', split='train')\n",
    "ds"
   ]
  },
  {
   "cell_type": "code",
   "execution_count": null,
   "metadata": {},
   "outputs": [],
   "source": [
    "from random import choice\n",
    "import subprocess\n",
    "import os\n",
    "from pathlib import Path\n",
    "\n",
    "def download_clip(\n",
    "    video_identifier,\n",
    "    start_time,\n",
    "    end_time):\n",
    "    \n",
    "    status = False\n",
    "    dir_index = list(range (20))\n",
    "    num_attempts=5\n",
    "    tmp_dir='/tmp/musiccaps'\n",
    "    output_filename = f\"./music_data{choice(dir_index)}/\"+video_identifier\n",
    "    url_base='https://www.youtube.com/watch?v='\n",
    "    \n",
    "    command = f\"\"\"\n",
    "        yt-dlp --quiet --no-warnings -x --audio-format wav -f bestaudio -o \"{output_filename}\" --download-sections \"*{start_time}-{end_time}\" {url_base}{video_identifier}\n",
    "    \"\"\".strip()\n",
    "\n",
    "    attempts = 0\n",
    "    while True:\n",
    "        try:\n",
    "            output = subprocess.check_output(command, shell=True,\n",
    "                                                stderr=subprocess.STDOUT)\n",
    "        except subprocess.CalledProcessError as err:\n",
    "            attempts += 1\n",
    "            if attempts == num_attempts:\n",
    "                return status, err.output\n",
    "        else:\n",
    "            break\n",
    "    \n",
    "    # Check if the video was successfully saved.\n",
    "    status = os.path.exists(output_filename)\n",
    "    status_list[video_identifier] = status\n",
    "    return status, 'Downloaded'\n",
    "\n",
    "def process(example):\n",
    "    outfile_path = str(data_dir / f\"{example['ytid']}.wav\")\n",
    "    status = True\n",
    "    if not os.path.exists(outfile_path):\n",
    "        status = False\n",
    "        status, log = download_clip(\n",
    "            example['ytid'],\n",
    "            outfile_path,\n",
    "            example['start_s'],\n",
    "            example['end_s'],\n",
    "        )\n",
    "\n",
    "    example['audio'] = outfile_path\n",
    "    example['download_status'] = status\n",
    "    return example"
   ]
  },
  {
   "cell_type": "code",
   "execution_count": null,
   "metadata": {},
   "outputs": [],
   "source": [
    "import pandas as pd\n",
    "musiccap_csv = pd.read_csv('/kaggle/input/musiccaps/musiccaps-public.csv')\n",
    "youtube_ids = musiccap_csv['ytid'].values.tolist()\n",
    "star_ss = musiccap_csv['start_s'].values.tolist()\n",
    "end_ss = musiccap_csv['end_s'].values.tolist()"
   ]
  },
  {
   "cell_type": "code",
   "execution_count": null,
   "metadata": {},
   "outputs": [],
   "source": [
    "from concurrent.futures import ThreadPoolExecutor\n",
    "import time\n",
    "    \n",
    "status_list = dict()\n",
    "with ThreadPoolExecutor(10) as executor1:\n",
    "    executor1.map(download_clip,youtube_ids, star_ss, end_ss)"
   ]
  },
  {
   "cell_type": "code",
   "execution_count": null,
   "metadata": {},
   "outputs": [],
   "source": [
    "import json\n",
    "\n",
    "with open('status.json', 'w') as fp:\n",
    "    json.dump(status_list, fp)"
   ]
  }
 ],
 "metadata": {
  "language_info": {
   "name": "python"
  }
 },
 "nbformat": 4,
 "nbformat_minor": 2
}
